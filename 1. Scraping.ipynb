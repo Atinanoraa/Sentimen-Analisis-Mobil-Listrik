{
  "cells": [
    {
      "cell_type": "code",
      "execution_count": null,
      "metadata": {
        "colab": {
          "base_uri": "https://localhost:8080/"
        },
        "id": "2v8kGCy3iuET",
        "outputId": "717e0b51-6a36-44ac-cde6-5cee0431a978"
      },
      "outputs": [
        {
          "name": "stdout",
          "output_type": "stream",
          "text": [
            "Requirement already satisfied: ntscraper in /usr/local/lib/python3.10/dist-packages (0.3.9)\n",
            "Requirement already satisfied: requests in /usr/local/lib/python3.10/dist-packages (from ntscraper) (2.31.0)\n",
            "Requirement already satisfied: beautifulsoup4 in /usr/local/lib/python3.10/dist-packages (from ntscraper) (4.11.2)\n",
            "Requirement already satisfied: lxml in /usr/local/lib/python3.10/dist-packages (from ntscraper) (4.9.3)\n",
            "Requirement already satisfied: soupsieve>1.2 in /usr/local/lib/python3.10/dist-packages (from beautifulsoup4->ntscraper) (2.5)\n",
            "Requirement already satisfied: charset-normalizer<4,>=2 in /usr/local/lib/python3.10/dist-packages (from requests->ntscraper) (3.3.2)\n",
            "Requirement already satisfied: idna<4,>=2.5 in /usr/local/lib/python3.10/dist-packages (from requests->ntscraper) (3.6)\n",
            "Requirement already satisfied: urllib3<3,>=1.21.1 in /usr/local/lib/python3.10/dist-packages (from requests->ntscraper) (2.0.7)\n",
            "Requirement already satisfied: certifi>=2017.4.17 in /usr/local/lib/python3.10/dist-packages (from requests->ntscraper) (2023.11.17)\n"
          ]
        }
      ],
      "source": [
        "!pip install ntscraper"
      ]
    },
    {
      "cell_type": "code",
      "execution_count": null,
      "metadata": {
        "id": "YLkCyWevi3Mu"
      },
      "outputs": [],
      "source": [
        "from ntscraper import Nitter"
      ]
    },
    {
      "cell_type": "code",
      "execution_count": null,
      "metadata": {
        "colab": {
          "base_uri": "https://localhost:8080/"
        },
        "id": "ql7PGWiRjNdi",
        "outputId": "0f97db22-8432-4dec-f2ef-b6693b5b907d"
      },
      "outputs": [
        {
          "name": "stderr",
          "output_type": "stream",
          "text": [
            "Testing instances: 100%|██████████| 30/30 [00:45<00:00,  1.52s/it]\n"
          ]
        }
      ],
      "source": [
        "scraper = Nitter(log_level=1, skip_instance_check=False)"
      ]
    },
    {
      "cell_type": "code",
      "execution_count": null,
      "metadata": {
        "colab": {
          "base_uri": "https://localhost:8080/"
        },
        "id": "HFF2dVrljSKy",
        "outputId": "49104491-f417-4ebb-b699-410c14c9b9ec"
      },
      "outputs": [
        {
          "name": "stderr",
          "output_type": "stream",
          "text": [
            "INFO:root:No instance specified, using random instance https://nitter.privacydev.net\n",
            "INFO:root:Current stats for id: 10 tweets, 0 threads...\n",
            "INFO:root:Current stats for id: 18 tweets, 0 threads...\n",
            "INFO:root:Current stats for id: 21 tweets, 0 threads...\n",
            "INFO:root:Current stats for id: 23 tweets, 0 threads...\n",
            "INFO:root:Current stats for id: 27 tweets, 0 threads...\n",
            "INFO:root:Current stats for id: 29 tweets, 0 threads...\n",
            "INFO:root:Current stats for id: 35 tweets, 0 threads...\n",
            "INFO:root:Current stats for id: 37 tweets, 0 threads...\n",
            "INFO:root:Current stats for id: 39 tweets, 0 threads...\n",
            "INFO:root:Current stats for id: 40 tweets, 0 threads...\n",
            "INFO:root:Current stats for id: 41 tweets, 0 threads...\n",
            "INFO:root:Current stats for id: 41 tweets, 0 threads...\n",
            "INFO:root:Current stats for id: 43 tweets, 0 threads...\n",
            "INFO:root:Current stats for id: 50 tweets, 0 threads...\n",
            "INFO:root:Current stats for id: 51 tweets, 0 threads...\n",
            "INFO:root:Current stats for id: 55 tweets, 0 threads...\n",
            "WARNING:root:Empty page on https://nitter.privacydev.net\n"
          ]
        }
      ],
      "source": [
        "tweets = scraper .get_tweets(\"id\", mode=\"hashtag\")"
      ]
    },
    {
      "cell_type": "code",
      "execution_count": null,
      "metadata": {
        "colab": {
          "base_uri": "https://localhost:8080/"
        },
        "id": "2Zxk_Ekgm0gK",
        "outputId": "7c4d7959-ad33-484e-968b-425cc008d504"
      },
      "outputs": [
        {
          "name": "stderr",
          "output_type": "stream",
          "text": [
            "INFO:numexpr.utils:NumExpr defaulting to 2 threads.\n"
          ]
        }
      ],
      "source": [
        "import pandas as pd"
      ]
    },
    {
      "cell_type": "code",
      "execution_count": null,
      "metadata": {
        "id": "QQNNFKVmj8Fo"
      },
      "outputs": [],
      "source": [
        "def get_tweets(name, modes, no):\n",
        "    tweets = scraper.get_tweets(name, mode = modes, number=no)\n",
        "    final_tweets = []\n",
        "    for x in tweets['tweets']:\n",
        "        data = [x['link'], x['target'], x['text'],x['date'],x['stats']['likes'],x['stats']['comments']]\n",
        "        final_tweets.append(data)\n",
        "    data= pd.DataFrame(final_tweets, columns =['twitter_link','text','date','likes','comments'])\n",
        "    return data"
      ]
    },
    {
      "cell_type": "code",
      "execution_count": null,
      "metadata": {
        "colab": {
          "background_save": true,
          "base_uri": "https://localhost:8080/"
        },
        "id": "CtL_EHpIkbv8",
        "outputId": "309f1af3-9671-4fd7-fdfc-8fb5ead45d14"
      },
      "outputs": [
        {
          "name": "stderr",
          "output_type": "stream",
          "text": [
            "INFO:root:No instance specified, using random instance https://nitter.uni-sonia.com\n",
            "INFO:root:Current stats for mobil listrik, polusi: 3 tweets, 0 threads...\n",
            "INFO:root:Current stats for mobil listrik, polusi: 20 tweets, 0 threads...\n",
            "INFO:root:Current stats for mobil listrik, polusi: 37 tweets, 0 threads...\n",
            "INFO:root:Current stats for mobil listrik, polusi: 51 tweets, 0 threads...\n",
            "INFO:root:Current stats for mobil listrik, polusi: 68 tweets, 0 threads...\n",
            "INFO:root:Current stats for mobil listrik, polusi: 87 tweets, 0 threads...\n",
            "INFO:root:Current stats for mobil listrik, polusi: 105 tweets, 0 threads...\n",
            "INFO:root:Current stats for mobil listrik, polusi: 122 tweets, 0 threads...\n",
            "INFO:root:Current stats for mobil listrik, polusi: 141 tweets, 0 threads...\n",
            "INFO:root:Current stats for mobil listrik, polusi: 156 tweets, 0 threads...\n",
            "INFO:root:Current stats for mobil listrik, polusi: 173 tweets, 0 threads...\n",
            "INFO:root:Current stats for mobil listrik, polusi: 190 tweets, 0 threads...\n",
            "INFO:root:Current stats for mobil listrik, polusi: 209 tweets, 0 threads...\n",
            "INFO:root:Current stats for mobil listrik, polusi: 227 tweets, 0 threads...\n",
            "INFO:root:Current stats for mobil listrik, polusi: 243 tweets, 0 threads...\n",
            "INFO:root:Current stats for mobil listrik, polusi: 256 tweets, 0 threads...\n",
            "INFO:root:Current stats for mobil listrik, polusi: 266 tweets, 0 threads...\n",
            "INFO:root:Current stats for mobil listrik, polusi: 283 tweets, 0 threads...\n",
            "INFO:root:Current stats for mobil listrik, polusi: 302 tweets, 0 threads...\n",
            "INFO:root:Current stats for mobil listrik, polusi: 315 tweets, 0 threads...\n",
            "INFO:root:Current stats for mobil listrik, polusi: 328 tweets, 0 threads...\n",
            "INFO:root:Current stats for mobil listrik, polusi: 344 tweets, 0 threads...\n",
            "INFO:root:Current stats for mobil listrik, polusi: 363 tweets, 0 threads...\n",
            "INFO:root:Current stats for mobil listrik, polusi: 382 tweets, 0 threads...\n",
            "INFO:root:Current stats for mobil listrik, polusi: 399 tweets, 0 threads...\n",
            "INFO:root:Current stats for mobil listrik, polusi: 418 tweets, 0 threads...\n",
            "INFO:root:Current stats for mobil listrik, polusi: 436 tweets, 0 threads...\n",
            "INFO:root:Current stats for mobil listrik, polusi: 453 tweets, 0 threads...\n",
            "INFO:root:Current stats for mobil listrik, polusi: 472 tweets, 0 threads...\n",
            "INFO:root:Current stats for mobil listrik, polusi: 491 tweets, 0 threads...\n",
            "INFO:root:Current stats for mobil listrik, polusi: 508 tweets, 0 threads...\n",
            "INFO:root:Current stats for mobil listrik, polusi: 525 tweets, 0 threads...\n",
            "INFO:root:Current stats for mobil listrik, polusi: 542 tweets, 0 threads...\n",
            "INFO:root:Current stats for mobil listrik, polusi: 555 tweets, 0 threads...\n",
            "INFO:root:Current stats for mobil listrik, polusi: 572 tweets, 0 threads...\n",
            "INFO:root:Current stats for mobil listrik, polusi: 588 tweets, 0 threads...\n",
            "INFO:root:Current stats for mobil listrik, polusi: 604 tweets, 0 threads...\n",
            "INFO:root:Current stats for mobil listrik, polusi: 622 tweets, 0 threads...\n",
            "INFO:root:Current stats for mobil listrik, polusi: 639 tweets, 0 threads...\n",
            "INFO:root:Current stats for mobil listrik, polusi: 658 tweets, 0 threads...\n",
            "INFO:root:Current stats for mobil listrik, polusi: 678 tweets, 0 threads...\n",
            "INFO:root:Current stats for mobil listrik, polusi: 690 tweets, 0 threads...\n",
            "INFO:root:Current stats for mobil listrik, polusi: 707 tweets, 0 threads...\n",
            "INFO:root:Current stats for mobil listrik, polusi: 724 tweets, 0 threads...\n",
            "INFO:root:Current stats for mobil listrik, polusi: 744 tweets, 0 threads...\n",
            "INFO:root:Current stats for mobil listrik, polusi: 763 tweets, 0 threads...\n",
            "INFO:root:Current stats for mobil listrik, polusi: 782 tweets, 0 threads...\n",
            "INFO:root:Current stats for mobil listrik, polusi: 798 tweets, 0 threads...\n",
            "INFO:root:Current stats for mobil listrik, polusi: 811 tweets, 0 threads...\n",
            "INFO:root:Current stats for mobil listrik, polusi: 828 tweets, 0 threads...\n",
            "INFO:root:Current stats for mobil listrik, polusi: 846 tweets, 0 threads...\n",
            "INFO:root:Current stats for mobil listrik, polusi: 865 tweets, 0 threads...\n",
            "INFO:root:Current stats for mobil listrik, polusi: 884 tweets, 0 threads...\n",
            "INFO:root:Current stats for mobil listrik, polusi: 902 tweets, 0 threads...\n",
            "INFO:root:Current stats for mobil listrik, polusi: 920 tweets, 0 threads...\n",
            "INFO:root:Current stats for mobil listrik, polusi: 937 tweets, 0 threads...\n",
            "INFO:root:Current stats for mobil listrik, polusi: 957 tweets, 0 threads...\n",
            "INFO:root:Current stats for mobil listrik, polusi: 974 tweets, 0 threads...\n",
            "INFO:root:Current stats for mobil listrik, polusi: 992 tweets, 0 threads...\n",
            "INFO:root:Current stats for mobil listrik, polusi: 1012 tweets, 0 threads...\n",
            "INFO:root:Current stats for mobil listrik, polusi: 1028 tweets, 0 threads...\n",
            "INFO:root:Current stats for mobil listrik, polusi: 1045 tweets, 0 threads...\n",
            "INFO:root:Current stats for mobil listrik, polusi: 1061 tweets, 0 threads...\n",
            "INFO:root:Current stats for mobil listrik, polusi: 1076 tweets, 0 threads...\n",
            "INFO:root:Current stats for mobil listrik, polusi: 1095 tweets, 0 threads...\n",
            "INFO:root:Current stats for mobil listrik, polusi: 1110 tweets, 0 threads...\n",
            "INFO:root:Current stats for mobil listrik, polusi: 1127 tweets, 0 threads...\n",
            "INFO:root:Current stats for mobil listrik, polusi: 1139 tweets, 0 threads...\n",
            "INFO:root:Current stats for mobil listrik, polusi: 1156 tweets, 0 threads...\n",
            "INFO:root:Current stats for mobil listrik, polusi: 1174 tweets, 0 threads...\n",
            "INFO:root:Current stats for mobil listrik, polusi: 1193 tweets, 0 threads...\n",
            "INFO:root:Current stats for mobil listrik, polusi: 1211 tweets, 0 threads...\n",
            "INFO:root:Current stats for mobil listrik, polusi: 1229 tweets, 0 threads...\n",
            "INFO:root:Current stats for mobil listrik, polusi: 1246 tweets, 0 threads...\n",
            "INFO:root:Current stats for mobil listrik, polusi: 1263 tweets, 0 threads...\n",
            "INFO:root:Current stats for mobil listrik, polusi: 1281 tweets, 0 threads...\n",
            "INFO:root:Current stats for mobil listrik, polusi: 1298 tweets, 0 threads...\n",
            "INFO:root:Current stats for mobil listrik, polusi: 1318 tweets, 0 threads...\n",
            "INFO:root:Current stats for mobil listrik, polusi: 1335 tweets, 0 threads...\n",
            "INFO:root:Current stats for mobil listrik, polusi: 1350 tweets, 0 threads...\n",
            "INFO:root:Current stats for mobil listrik, polusi: 1368 tweets, 0 threads...\n",
            "INFO:root:Current stats for mobil listrik, polusi: 1385 tweets, 0 threads...\n",
            "INFO:root:Current stats for mobil listrik, polusi: 1401 tweets, 0 threads...\n",
            "INFO:root:Current stats for mobil listrik, polusi: 1419 tweets, 0 threads...\n",
            "INFO:root:Current stats for mobil listrik, polusi: 1435 tweets, 0 threads...\n",
            "INFO:root:Current stats for mobil listrik, polusi: 1451 tweets, 0 threads...\n",
            "INFO:root:Current stats for mobil listrik, polusi: 1469 tweets, 0 threads...\n",
            "INFO:root:Current stats for mobil listrik, polusi: 1487 tweets, 0 threads...\n",
            "INFO:root:Current stats for mobil listrik, polusi: 1504 tweets, 0 threads...\n",
            "INFO:root:Current stats for mobil listrik, polusi: 1520 tweets, 0 threads...\n",
            "INFO:root:Current stats for mobil listrik, polusi: 1540 tweets, 0 threads...\n",
            "INFO:root:Current stats for mobil listrik, polusi: 1559 tweets, 0 threads...\n",
            "INFO:root:Current stats for mobil listrik, polusi: 1577 tweets, 0 threads...\n",
            "INFO:root:Current stats for mobil listrik, polusi: 1585 tweets, 0 threads...\n",
            "INFO:root:Current stats for mobil listrik, polusi: 1595 tweets, 0 threads...\n",
            "INFO:root:Current stats for mobil listrik, polusi: 1613 tweets, 0 threads...\n",
            "INFO:root:Current stats for mobil listrik, polusi: 1631 tweets, 0 threads...\n",
            "INFO:root:Current stats for mobil listrik, polusi: 1650 tweets, 0 threads...\n",
            "INFO:root:Current stats for mobil listrik, polusi: 1669 tweets, 0 threads...\n",
            "INFO:root:Current stats for mobil listrik, polusi: 1686 tweets, 0 threads...\n",
            "INFO:root:Current stats for mobil listrik, polusi: 1702 tweets, 0 threads...\n",
            "INFO:root:Current stats for mobil listrik, polusi: 1717 tweets, 0 threads...\n",
            "INFO:root:Current stats for mobil listrik, polusi: 1734 tweets, 0 threads...\n",
            "INFO:root:Current stats for mobil listrik, polusi: 1753 tweets, 0 threads...\n",
            "INFO:root:Current stats for mobil listrik, polusi: 1767 tweets, 0 threads...\n",
            "INFO:root:Current stats for mobil listrik, polusi: 1784 tweets, 0 threads...\n",
            "INFO:root:Current stats for mobil listrik, polusi: 1799 tweets, 0 threads...\n",
            "INFO:root:Current stats for mobil listrik, polusi: 1818 tweets, 0 threads...\n",
            "INFO:root:Current stats for mobil listrik, polusi: 1834 tweets, 0 threads...\n",
            "INFO:root:Current stats for mobil listrik, polusi: 1848 tweets, 0 threads...\n",
            "INFO:root:Current stats for mobil listrik, polusi: 1865 tweets, 0 threads...\n",
            "INFO:root:Current stats for mobil listrik, polusi: 1883 tweets, 0 threads...\n",
            "INFO:root:Current stats for mobil listrik, polusi: 1896 tweets, 0 threads...\n",
            "INFO:root:Current stats for mobil listrik, polusi: 1914 tweets, 0 threads...\n",
            "INFO:root:Current stats for mobil listrik, polusi: 1934 tweets, 0 threads...\n",
            "INFO:root:Current stats for mobil listrik, polusi: 1951 tweets, 0 threads...\n",
            "INFO:root:Current stats for mobil listrik, polusi: 1966 tweets, 0 threads...\n",
            "INFO:root:Current stats for mobil listrik, polusi: 1985 tweets, 0 threads...\n",
            "INFO:root:Current stats for mobil listrik, polusi: 2001 tweets, 0 threads...\n",
            "INFO:root:Current stats for mobil listrik, polusi: 2018 tweets, 0 threads...\n",
            "INFO:root:Current stats for mobil listrik, polusi: 2032 tweets, 0 threads...\n",
            "INFO:root:Current stats for mobil listrik, polusi: 2047 tweets, 0 threads...\n",
            "INFO:root:Current stats for mobil listrik, polusi: 2058 tweets, 0 threads...\n",
            "INFO:root:Current stats for mobil listrik, polusi: 2064 tweets, 0 threads...\n",
            "INFO:root:Current stats for mobil listrik, polusi: 2078 tweets, 0 threads...\n",
            "INFO:root:Current stats for mobil listrik, polusi: 2094 tweets, 0 threads...\n",
            "INFO:root:Current stats for mobil listrik, polusi: 2111 tweets, 0 threads...\n",
            "INFO:root:Current stats for mobil listrik, polusi: 2126 tweets, 0 threads...\n",
            "INFO:root:Current stats for mobil listrik, polusi: 2142 tweets, 0 threads...\n",
            "INFO:root:Current stats for mobil listrik, polusi: 2157 tweets, 0 threads...\n",
            "INFO:root:Current stats for mobil listrik, polusi: 2170 tweets, 0 threads...\n",
            "INFO:root:Current stats for mobil listrik, polusi: 2185 tweets, 0 threads...\n",
            "INFO:root:Current stats for mobil listrik, polusi: 2200 tweets, 0 threads...\n",
            "INFO:root:Current stats for mobil listrik, polusi: 2215 tweets, 0 threads...\n",
            "INFO:root:Current stats for mobil listrik, polusi: 2228 tweets, 0 threads...\n",
            "INFO:root:Current stats for mobil listrik, polusi: 2244 tweets, 0 threads...\n",
            "INFO:root:Current stats for mobil listrik, polusi: 2259 tweets, 0 threads...\n",
            "INFO:root:Current stats for mobil listrik, polusi: 2276 tweets, 0 threads...\n",
            "INFO:root:Current stats for mobil listrik, polusi: 2281 tweets, 0 threads...\n",
            "INFO:root:Current stats for mobil listrik, polusi: 2285 tweets, 0 threads...\n",
            "INFO:root:Current stats for mobil listrik, polusi: 2296 tweets, 0 threads...\n",
            "INFO:root:Current stats for mobil listrik, polusi: 2307 tweets, 0 threads...\n",
            "INFO:root:Current stats for mobil listrik, polusi: 2314 tweets, 0 threads...\n",
            "INFO:root:Current stats for mobil listrik, polusi: 2328 tweets, 0 threads...\n",
            "INFO:root:Current stats for mobil listrik, polusi: 2341 tweets, 0 threads...\n",
            "INFO:root:Current stats for mobil listrik, polusi: 2355 tweets, 0 threads...\n",
            "INFO:root:Current stats for mobil listrik, polusi: 2370 tweets, 0 threads...\n",
            "INFO:root:Current stats for mobil listrik, polusi: 2385 tweets, 0 threads...\n",
            "INFO:root:Current stats for mobil listrik, polusi: 2396 tweets, 0 threads...\n",
            "INFO:root:Current stats for mobil listrik, polusi: 2410 tweets, 0 threads...\n",
            "INFO:root:Current stats for mobil listrik, polusi: 2422 tweets, 0 threads...\n",
            "INFO:root:Current stats for mobil listrik, polusi: 2431 tweets, 0 threads...\n",
            "WARNING:root:Empty page on https://nitter.uni-sonia.com\n"
          ]
        },
        {
          "ename": "KeyError",
          "evalue": "ignored",
          "output_type": "error",
          "traceback": [
            "\u001b[0;31m---------------------------------------------------------------------------\u001b[0m",
            "\u001b[0;31mKeyError\u001b[0m                                  Traceback (most recent call last)",
            "\u001b[0;32m<ipython-input-11-7b8f7e80cd97>\u001b[0m in \u001b[0;36m<cell line: 1>\u001b[0;34m()\u001b[0m\n\u001b[0;32m----> 1\u001b[0;31m \u001b[0mdata\u001b[0m \u001b[0;34m=\u001b[0m \u001b[0mget_tweets\u001b[0m\u001b[0;34m(\u001b[0m\u001b[0;34m'mobil listrik, polusi'\u001b[0m\u001b[0;34m,\u001b[0m\u001b[0;34m'term'\u001b[0m\u001b[0;34m,\u001b[0m\u001b[0;36m10000\u001b[0m\u001b[0;34m)\u001b[0m\u001b[0;34m\u001b[0m\u001b[0;34m\u001b[0m\u001b[0m\n\u001b[0m",
            "\u001b[0;32m<ipython-input-10-a5ae6b1468ce>\u001b[0m in \u001b[0;36mget_tweets\u001b[0;34m(name, modes, no)\u001b[0m\n\u001b[1;32m      3\u001b[0m     \u001b[0mfinal_tweets\u001b[0m \u001b[0;34m=\u001b[0m \u001b[0;34m[\u001b[0m\u001b[0;34m]\u001b[0m\u001b[0;34m\u001b[0m\u001b[0;34m\u001b[0m\u001b[0m\n\u001b[1;32m      4\u001b[0m     \u001b[0;32mfor\u001b[0m \u001b[0mx\u001b[0m \u001b[0;32min\u001b[0m \u001b[0mtweets\u001b[0m\u001b[0;34m[\u001b[0m\u001b[0;34m'tweets'\u001b[0m\u001b[0;34m]\u001b[0m\u001b[0;34m:\u001b[0m\u001b[0;34m\u001b[0m\u001b[0;34m\u001b[0m\u001b[0m\n\u001b[0;32m----> 5\u001b[0;31m         \u001b[0mdata\u001b[0m \u001b[0;34m=\u001b[0m \u001b[0;34m[\u001b[0m\u001b[0mx\u001b[0m\u001b[0;34m[\u001b[0m\u001b[0;34m'link'\u001b[0m\u001b[0;34m]\u001b[0m\u001b[0;34m,\u001b[0m \u001b[0mx\u001b[0m\u001b[0;34m[\u001b[0m\u001b[0;34m'target'\u001b[0m\u001b[0;34m]\u001b[0m\u001b[0;34m,\u001b[0m \u001b[0mx\u001b[0m\u001b[0;34m[\u001b[0m\u001b[0;34m'text'\u001b[0m\u001b[0;34m]\u001b[0m\u001b[0;34m,\u001b[0m\u001b[0mx\u001b[0m\u001b[0;34m[\u001b[0m\u001b[0;34m'date'\u001b[0m\u001b[0;34m]\u001b[0m\u001b[0;34m,\u001b[0m\u001b[0mx\u001b[0m\u001b[0;34m[\u001b[0m\u001b[0;34m'stats'\u001b[0m\u001b[0;34m]\u001b[0m\u001b[0;34m[\u001b[0m\u001b[0;34m'likes'\u001b[0m\u001b[0;34m]\u001b[0m\u001b[0;34m,\u001b[0m\u001b[0mx\u001b[0m\u001b[0;34m[\u001b[0m\u001b[0;34m'stats'\u001b[0m\u001b[0;34m]\u001b[0m\u001b[0;34m[\u001b[0m\u001b[0;34m'comments'\u001b[0m\u001b[0;34m]\u001b[0m\u001b[0;34m]\u001b[0m\u001b[0;34m\u001b[0m\u001b[0;34m\u001b[0m\u001b[0m\n\u001b[0m\u001b[1;32m      6\u001b[0m         \u001b[0mfinal_tweets\u001b[0m\u001b[0;34m.\u001b[0m\u001b[0mappend\u001b[0m\u001b[0;34m(\u001b[0m\u001b[0mdata\u001b[0m\u001b[0;34m)\u001b[0m\u001b[0;34m\u001b[0m\u001b[0;34m\u001b[0m\u001b[0m\n\u001b[1;32m      7\u001b[0m     \u001b[0mdata\u001b[0m\u001b[0;34m=\u001b[0m \u001b[0mpd\u001b[0m\u001b[0;34m.\u001b[0m\u001b[0mDataFrame\u001b[0m\u001b[0;34m(\u001b[0m\u001b[0mfinal_tweets\u001b[0m\u001b[0;34m,\u001b[0m \u001b[0mcolumns\u001b[0m \u001b[0;34m=\u001b[0m\u001b[0;34m[\u001b[0m\u001b[0;34m'twitter_link'\u001b[0m\u001b[0;34m,\u001b[0m\u001b[0;34m'text'\u001b[0m\u001b[0;34m,\u001b[0m\u001b[0;34m'date'\u001b[0m\u001b[0;34m,\u001b[0m\u001b[0;34m'likes'\u001b[0m\u001b[0;34m,\u001b[0m\u001b[0;34m'comments'\u001b[0m\u001b[0;34m]\u001b[0m\u001b[0;34m)\u001b[0m\u001b[0;34m\u001b[0m\u001b[0;34m\u001b[0m\u001b[0m\n",
            "\u001b[0;31mKeyError\u001b[0m: 'target'"
          ]
        }
      ],
      "source": [
        "data = get_tweets('mobil listrik, polusi','term',10000)"
      ]
    },
    {
      "cell_type": "code",
      "execution_count": null,
      "metadata": {
        "colab": {
          "background_save": true
        },
        "id": "EJDZqzqgkhP0"
      },
      "outputs": [],
      "source": [
        "data"
      ]
    },
    {
      "cell_type": "code",
      "execution_count": null,
      "metadata": {
        "colab": {
          "background_save": true
        },
        "id": "V5hgGql9mvdR"
      },
      "outputs": [],
      "source": [
        "data.to_csv(\"data.csv\", index=0)"
      ]
    }
  ],
  "metadata": {
    "colab": {
      "provenance": []
    },
    "kernelspec": {
      "display_name": "Python 3",
      "name": "python3"
    },
    "language_info": {
      "name": "python"
    }
  },
  "nbformat": 4,
  "nbformat_minor": 0
}